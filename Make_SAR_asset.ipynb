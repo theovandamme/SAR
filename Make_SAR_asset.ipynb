{
 "cells": [
  {
   "cell_type": "code",
   "execution_count": 1,
   "id": "6d78bf35-91b2-4be8-9c4a-41697fb83bad",
   "metadata": {},
   "outputs": [],
   "source": [
    "import ee\n",
    "#ee.Authenticate()\n",
    "ee.Initialize()\n",
    "import geemap\n",
    "import Geo_assets as Ga\n",
    "import Wrapper as wrap\n",
    "\n",
    "parameters = {\n",
    "    \"START_DATE\": \"2020-04-16\",\n",
    "    \"STOP_DATE\": \"2020-04-19\",\n",
    "    \"ORBIT\": \"ASCENDING\",\n",
    "    \"APPLY_BORDER_NOISE_CORRECTION\": True, \n",
    "    \"APPLY_TERRAIN_FLATTENING\": True, \n",
    "    \"ROI\": Ga.BujxUvira,\n",
    "    \"SPECKLE_FILTER_FRAMEWORK\": 'MONO',\n",
    "    \"SPECKLE_FILTER\": 'LEE SIGMA', \n",
    "    \"CLIP_TO_ROI\": True, \n",
    "    'APPLY_SPECKLE_FILTERING': True, \n",
    "    'POLARIZATION': 'VVVH', \n",
    "    'PLATFORM_NUMBER': None,\n",
    "    'ORBIT_NUM': None,\n",
    "    'SPECKLE_FILTER_KERNEL_SIZE': 7, \n",
    "    'SPECKLE_FILTER_NR_OF_IMAGES': None,\n",
    "    'TERRAIN_FLATTENING_MODEL': 'VOLUME',\n",
    "    'DEM': ee.Image('USGS/SRTMGL1_003'),\n",
    "    'TERRAIN_FLATTENING_ADDITIONAL_LAYOVER_SHADOW_BUFFER': None,\n",
    "    'FORMAT': 'DB', \n",
    "    'SAVE_ASSET': True,\n",
    "    'FILENAME': 'BujxUvira_200416_CRIS',\n",
    "\n",
    "}"
   ]
  },
  {
   "cell_type": "code",
   "execution_count": 25,
   "id": "c62ccd6f-b580-4f0f-9b45-5ec81f9e9766",
   "metadata": {},
   "outputs": [
    {
     "data": {
      "text/html": [
       "\n",
       "            <style>\n",
       "                .geemap-dark {\n",
       "                    --jp-widgets-color: white;\n",
       "                    --jp-widgets-label-color: white;\n",
       "                    --jp-ui-font-color1: white;\n",
       "                    --jp-layout-color2: #454545;\n",
       "                    background-color: #383838;\n",
       "                }\n",
       "\n",
       "                .geemap-dark .jupyter-button {\n",
       "                    --jp-layout-color3: #383838;\n",
       "                }\n",
       "\n",
       "                .geemap-colab {\n",
       "                    background-color: var(--colab-primary-surface-color, white);\n",
       "                }\n",
       "\n",
       "                .geemap-colab .jupyter-button {\n",
       "                    --jp-layout-color3: var(--colab-primary-surface-color, white);\n",
       "                }\n",
       "            </style>\n",
       "            "
      ],
      "text/plain": [
       "<IPython.core.display.HTML object>"
      ]
     },
     "metadata": {},
     "output_type": "display_data"
    },
    {
     "name": "stdout",
     "output_type": "stream",
     "text": [
      "Number of images in collection:  2\n",
      "Additional border noise correction is completed\n",
      "Mono-temporal speckle filtering is completed\n",
      "Radiometric terrain normalization is completed\n",
      "Exporting BujxUvira_200416_CRIS to projects/ee-thvdamme/assets/BujxUvira_200416_CRIS\n"
     ]
    },
    {
     "data": {
      "application/vnd.jupyter.widget-view+json": {
       "model_id": "b507dee249d745e1a05d61c48f70f02a",
       "version_major": 2,
       "version_minor": 0
      },
      "text/plain": [
       "Map(center=[0, 0], controls=(WidgetControl(options=['position', 'transparent_bg'], widget=SearchDataGUI(childr…"
      ]
     },
     "execution_count": 25,
     "metadata": {},
     "output_type": "execute_result"
    }
   ],
   "source": [
    "wrap.s1_preproc(parameters)"
   ]
  },
  {
   "cell_type": "code",
   "execution_count": 1,
   "id": "b7e68215-a42d-4d34-aaee-ef84b829de57",
   "metadata": {},
   "outputs": [],
   "source": [
    "import ee\n",
    "#ee.Authenticate()\n",
    "ee.Initialize()\n",
    "import geemap\n",
    "import Geo_assets as Ga\n",
    "import Wrapper_SAR as wrap_RVI\n",
    "params = {\n",
    "    \"START_DATE\": \"2020-02-13\",\n",
    "    \"EVENT_DATE\": \"2020-04-13\",\n",
    "    \"STOP_DATE\": \"2020-04-19\",\n",
    "    \"ORBIT\": \"ASCENDING\",\n",
    "    \"APPLY_BORDER_NOISE_CORRECTION\": False, \n",
    "    \"APPLY_TERRAIN_FLATTENING\": True, \n",
    "    \"ROI\": Ga.BujxUvira,\n",
    "    \"SPECKLE_FILTER_FRAMEWORK\": 'MONO',\n",
    "    \"SPECKLE_FILTER\": 'LEE SIGMA', \n",
    "    \"CLIP_TO_ROI\": True, \n",
    "    'APPLY_SPECKLE_FILTERING': True, \n",
    "    'POLARIZATION': 'VVVH', \n",
    "    'PLATFORM_NUMBER': None,\n",
    "    'ORBIT_NUM': None,\n",
    "    'SPECKLE_FILTER_KERNEL_SIZE': 7, \n",
    "    'SPECKLE_FILTER_NR_OF_IMAGES': None,\n",
    "    'TERRAIN_FLATTENING_MODEL': 'VOLUME',\n",
    "    'DEM': ee.Image('USGS/SRTMGL1_003'),\n",
    "    'TERRAIN_FLATTENING_ADDITIONAL_LAYOVER_SHADOW_BUFFER': None,\n",
    "    'FORMAT': 'LINEAR', \n",
    "    'MAKE_MAP': True,\n",
    "    'SAVE_ASSET': True,\n",
    "    'FILENAME': 'BujxUvira_200413_CRIS_LINEAR',\n",
    "}\n"
   ]
  },
  {
   "cell_type": "code",
   "execution_count": 2,
   "id": "e6149b6e",
   "metadata": {},
   "outputs": [
    {
     "data": {
      "text/html": [
       "\n",
       "            <style>\n",
       "                .geemap-dark {\n",
       "                    --jp-widgets-color: white;\n",
       "                    --jp-widgets-label-color: white;\n",
       "                    --jp-ui-font-color1: white;\n",
       "                    --jp-layout-color2: #454545;\n",
       "                    background-color: #383838;\n",
       "                }\n",
       "\n",
       "                .geemap-dark .jupyter-button {\n",
       "                    --jp-layout-color3: #383838;\n",
       "                }\n",
       "\n",
       "                .geemap-colab {\n",
       "                    background-color: var(--colab-primary-surface-color, white);\n",
       "                }\n",
       "\n",
       "                .geemap-colab .jupyter-button {\n",
       "                    --jp-layout-color3: var(--colab-primary-surface-color, white);\n",
       "                }\n",
       "            </style>\n",
       "            "
      ],
      "text/plain": [
       "<IPython.core.display.HTML object>"
      ]
     },
     "metadata": {},
     "output_type": "display_data"
    },
    {
     "name": "stdout",
     "output_type": "stream",
     "text": [
      "Number of images in collection:  20\n",
      "Number of images in collection:  2\n",
      "Mono-temporal speckle filtering is completed\n",
      "Radiometric terrain normalization is completed\n",
      "Exporting \n",
      "Exporting \n",
      "Exporting \n"
     ]
    },
    {
     "data": {
      "application/vnd.jupyter.widget-view+json": {
       "model_id": "2c767c8fd0af46afbd2fb8d75e6b990f",
       "version_major": 2,
       "version_minor": 0
      },
      "text/plain": [
       "Map(center=[0, 0], controls=(WidgetControl(options=['position', 'transparent_bg'], widget=SearchDataGUI(childr…"
      ]
     },
     "execution_count": 2,
     "metadata": {},
     "output_type": "execute_result"
    }
   ],
   "source": [
    "wrap_RVI.s1_preproc(params)"
   ]
  }
 ],
 "metadata": {
  "kernelspec": {
   "display_name": "Python 3 (ipykernel)",
   "language": "python",
   "name": "python3"
  },
  "language_info": {
   "codemirror_mode": {
    "name": "ipython",
    "version": 3
   },
   "file_extension": ".py",
   "mimetype": "text/x-python",
   "name": "python",
   "nbconvert_exporter": "python",
   "pygments_lexer": "ipython3",
   "version": "3.1.undefined"
  },
  "vscode": {
   "interpreter": {
    "hash": "aee8b7b246df8f9039afb4144a1f6fd8d2ca17a180786b69acc140d282b71a49"
   }
  }
 },
 "nbformat": 4,
 "nbformat_minor": 5
}
